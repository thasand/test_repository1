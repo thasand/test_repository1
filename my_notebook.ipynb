{
 "cells": [
  {
   "cell_type": "code",
   "execution_count": null,
   "id": "49035806-9d66-4203-b3d3-cb697a6d886c",
   "metadata": {},
   "outputs": [],
   "source": []
  },
  {
   "cell_type": "markdown",
   "id": "0a2f6712-a2dc-401f-b409-2978ed69f458",
   "metadata": {},
   "source": [
    "## test\n",
    "fdsfsdf\n",
    "fsdfsd"
   ]
  },
  {
   "cell_type": "markdown",
   "id": "9f089e74-0d13-4a75-9712-1e5c4faa0806",
   "metadata": {},
   "source": []
  },
  {
   "cell_type": "code",
   "execution_count": null,
   "id": "d93828b3-33a2-4823-85ae-dc46d324648d",
   "metadata": {},
   "outputs": [],
   "source": []
  }
 ],
 "metadata": {
  "kernelspec": {
   "display_name": "Python",
   "language": "python",
   "name": "conda-env-python-py"
  },
  "language_info": {
   "codemirror_mode": {
    "name": "ipython",
    "version": 3
   },
   "file_extension": ".py",
   "mimetype": "text/x-python",
   "name": "python",
   "nbconvert_exporter": "python",
   "pygments_lexer": "ipython3",
   "version": "3.6.13"
  }
 },
 "nbformat": 4,
 "nbformat_minor": 5
}
